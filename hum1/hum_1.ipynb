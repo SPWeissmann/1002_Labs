{
 "cells": [
  {
   "cell_type": "markdown",
   "metadata": {},
   "source": [
    "#### Part 1: Cleaning Data\n",
    "There are a lot of tweets in this data set. The first thing you need to do is download the data set and then create a much smaller version to test your work on. Do this using your favorite text editor. When you’re done you should have two text files, one is the original and the other is a text file just like tweets.txt except it should only have information for 30 tweets. \n",
    "\n",
    "\n",
    "##### Part 2: Creating Dictionaries\n",
    "Write a function in Python that reads the smaller tweet file and creates a list of dictionaries. Each dictionary will represent one line of your file and will have the key-value pairs:\n",
    "\n",
    "- text: a string, the text of the tweet all in lowercase\n",
    "- time: a datetime object, date and time of the tweet\n",
    "- latitude: a float, the latitude of the tweet's location\n",
    "- longitude: a float, the longitude of the tweet's location\n"
   ]
  },
  {
   "cell_type": "code",
   "execution_count": null,
   "metadata": {},
   "outputs": [],
   "source": [
    "def parse_tweets(file_name):\n",
    "    \n",
    "    pass\n",
    "\n",
    "\n",
    "\n"
   ]
  }
 ],
 "metadata": {
  "kernelspec": {
   "display_name": "Python 3",
   "language": "python",
   "name": "python3"
  },
  "language_info": {
   "codemirror_mode": {
    "name": "ipython",
    "version": 3
   },
   "file_extension": ".py",
   "mimetype": "text/x-python",
   "name": "python",
   "nbconvert_exporter": "python",
   "pygments_lexer": "ipython3",
   "version": "3.7.3"
  }
 },
 "nbformat": 4,
 "nbformat_minor": 2
}
